{
  "nbformat": 4,
  "nbformat_minor": 0,
  "metadata": {
    "colab": {
      "provenance": [],
      "authorship_tag": "ABX9TyO5RGBLk9PvA+7hMPTKcvBg",
      "include_colab_link": true
    },
    "kernelspec": {
      "name": "python3",
      "display_name": "Python 3"
    },
    "language_info": {
      "name": "python"
    }
  },
  "cells": [
    {
      "cell_type": "markdown",
      "metadata": {
        "id": "view-in-github",
        "colab_type": "text"
      },
      "source": [
        "<a href=\"https://colab.research.google.com/github/hunterhonda/Apache_Airflow_Gmail_Pipeline/blob/main/DataStructure.ipynb\" target=\"_parent\"><img src=\"https://colab.research.google.com/assets/colab-badge.svg\" alt=\"Open In Colab\"/></a>"
      ]
    },
    {
      "cell_type": "code",
      "execution_count": null,
      "metadata": {
        "colab": {
          "base_uri": "https://localhost:8080/"
        },
        "id": "HZQDYhjooM3W",
        "outputId": "74a8c96e-b428-410c-a3b9-25cbbfef4162"
      },
      "outputs": [
        {
          "output_type": "execute_result",
          "data": {
            "text/plain": [
              "[4, 6]"
            ]
          },
          "metadata": {},
          "execution_count": 14
        }
      ],
      "source": [
        "from typing import List\n",
        "class Solution:\n",
        "    def twoSum(self, nums: List[int], target: int) -> List[int]:\n",
        "        for x in range(0, len(nums) - 1):\n",
        "            for y in range(x + 1, len(nums)):\n",
        "                if (nums[x] + nums[y] == target):\n",
        "                    return [x, y]\n",
        "\n",
        "s1 = Solution()\n",
        "s1.twoSum([1, 5, 8, 4, 9, 3, 18, 2], 27)\n",
        "\n"
      ]
    },
    {
      "cell_type": "code",
      "source": [
        "from typing import List\n",
        "class Solution:\n",
        "  def twoSum(self, nums: List[int], target: int) -> List[int]:\n",
        "    new_nums = nums.copy()\n",
        "    new_nums.sort()\n",
        "    i = 0 \n",
        "    j = len(new_nums) - 1\n",
        "\n",
        "    while i < j:\n",
        "      if (new_nums[i] + new_nums[j] == target):\n",
        "        if new_nums[i] == new_nums[j]:\n",
        "          return [nums.index(new_nums[i]), \\\n",
        "                  nums.index(new_nums[j], nums.index(new_nums[i]) + 1)]\n",
        "        else:\n",
        "          return [nums.index(new_nums[i]), nums.index(new_nums[j])]\n",
        "      elif (new_nums[i] + new_nums[j] < target):\n",
        "        i = i + 1\n",
        "      else:\n",
        "        j = j - 1\n",
        "\n",
        "s1 = Solution()\n",
        "# s1.twoSum([1, 5, 8, 4, 9, 3, 18, 2], 27)\n",
        "s1.twoSum([3, 0, 5, 2, 3, 10], 6)"
      ],
      "metadata": {
        "colab": {
          "base_uri": "https://localhost:8080/"
        },
        "id": "YzhHpap8cpVF",
        "outputId": "62ce2129-eda9-40a0-eb26-46e46082762a"
      },
      "execution_count": 17,
      "outputs": [
        {
          "output_type": "execute_result",
          "data": {
            "text/plain": [
              "[0, 4]"
            ]
          },
          "metadata": {},
          "execution_count": 17
        }
      ]
    },
    {
      "cell_type": "code",
      "source": [
        "from typing import List\n",
        "class Solution:\n",
        "  def twoSum(self, nums: List[int], target: int) -> List[int]:\n",
        "    dict = {}\n",
        "    for i in range(0, len(nums)):\n",
        "      complement = target - nums[i]\n",
        "      if complement in dict:\n",
        "        return [i, dict[complement]]\n",
        "      dict[nums[i]] = i\n",
        "\n",
        "s1 = Solution()\n",
        "s1.twoSum([1, 5, 8, 4, 9, 3, 18, 2], 27)"
      ],
      "metadata": {
        "colab": {
          "base_uri": "https://localhost:8080/"
        },
        "id": "eSnGWTZnjzjH",
        "outputId": "4dd4b4ee-0f18-4f16-d125-1cc7870cc202"
      },
      "execution_count": 20,
      "outputs": [
        {
          "output_type": "execute_result",
          "data": {
            "text/plain": [
              "[6, 4]"
            ]
          },
          "metadata": {},
          "execution_count": 20
        }
      ]
    },
    {
      "cell_type": "code",
      "source": [
        "from typing import List\n",
        "class Solution:\n",
        "    def singleNumber(self, nums: List[int]) -> int:\n",
        "        sing = nums[0]\n",
        "        for i in range(1, len(nums)):\n",
        "          sing = sing ^ nums[i]\n",
        "\n",
        "        return sing\n",
        "\n",
        "s1 = Solution()\n",
        "s1.singleNumber([4,1,2,1,2])"
      ],
      "metadata": {
        "colab": {
          "base_uri": "https://localhost:8080/"
        },
        "id": "iIn0PoIs9MjL",
        "outputId": "1ac3f1bd-d881-4568-810c-2ebc2abb7084"
      },
      "execution_count": 25,
      "outputs": [
        {
          "output_type": "execute_result",
          "data": {
            "text/plain": [
              "4"
            ]
          },
          "metadata": {},
          "execution_count": 25
        }
      ]
    },
    {
      "cell_type": "code",
      "source": [
        "from typing import List\n",
        "from collections import defaultdict\n",
        "\n",
        "class Solution:\n",
        "    def singleNumber(self, nums: List[int]) -> int:\n",
        "      hash_table = defaultdict(int)\n",
        "      for num in nums:\n",
        "        hash_table[num] = hash_table[num] + 1\n",
        "      \n",
        "      for num in nums:\n",
        "        if hash_table[num] == 1:\n",
        "          return num\n",
        "        \n",
        "\n",
        "s1 = Solution()\n",
        "s1.singleNumber([4,1,2,1,2])"
      ],
      "metadata": {
        "colab": {
          "base_uri": "https://localhost:8080/"
        },
        "id": "gP2oZOdhM_EI",
        "outputId": "ea711cea-d979-46f7-eefc-7aa7920e3819"
      },
      "execution_count": 26,
      "outputs": [
        {
          "output_type": "execute_result",
          "data": {
            "text/plain": [
              "4"
            ]
          },
          "metadata": {},
          "execution_count": 26
        }
      ]
    },
    {
      "cell_type": "code",
      "source": [
        "from typing import List\n",
        "from collections import defaultdict\n",
        "\n",
        "class Solution:\n",
        "    def majorityElement(self, nums: List[int]) -> int:\n",
        "      majority = nums[0]\n",
        "      votes = 1\n",
        "      for i in range(1, len(nums)):\n",
        "        if votes == 0:\n",
        "          votes = votes + 1\n",
        "          majority = nums[i]\n",
        "        elif majority == nums[i]:\n",
        "          votes = votes + 1\n",
        "        else:\n",
        "          votes = votes - 1\n",
        "        \n",
        "      return majority\n",
        "\n",
        "\n",
        "s1 = Solution()\n",
        "s1.majorityElement([2,2,1,1,1,2,2])"
      ],
      "metadata": {
        "colab": {
          "base_uri": "https://localhost:8080/"
        },
        "id": "eAD959UalsGi",
        "outputId": "646935e8-c7db-415e-d281-098d1351f086"
      },
      "execution_count": 3,
      "outputs": [
        {
          "output_type": "execute_result",
          "data": {
            "text/plain": [
              "2"
            ]
          },
          "metadata": {},
          "execution_count": 3
        }
      ]
    },
    {
      "cell_type": "code",
      "source": [
        "from typing import List\n",
        "from collections import defaultdict\n",
        "import math\n",
        "\n",
        "class Solution:\n",
        "    def majorityElement(self, nums: List[int]) -> int:\n",
        "      nums.sort()\n",
        "      if len(nums) % 2 == 0:\n",
        "        return nums[math.ceil(len(nums)/2)]\n",
        "      else:\n",
        "        return nums[math.ceil(len(nums)/2) - 1]\n",
        "\n",
        "\n",
        "s1 = Solution()\n",
        "s1.majorityElement([2,2,1,1,1,2,2])"
      ],
      "metadata": {
        "colab": {
          "base_uri": "https://localhost:8080/"
        },
        "id": "ieV3FJFUr91m",
        "outputId": "cb939648-d907-4ec3-9b0c-ab71cccc03de"
      },
      "execution_count": 7,
      "outputs": [
        {
          "output_type": "execute_result",
          "data": {
            "text/plain": [
              "2"
            ]
          },
          "metadata": {},
          "execution_count": 7
        }
      ]
    },
    {
      "cell_type": "code",
      "source": [
        "from typing import List\n",
        "from collections import defaultdict\n",
        "import math\n",
        "\n",
        "class Solution:\n",
        "    def majorityElement(self, nums: List[int]) -> int:\n",
        "      nums.sort()\n",
        "      return nums[math.floor(len(nums)/2)]\n",
        "\n",
        "\n",
        "s1 = Solution()\n",
        "s1.majorityElement([2,2,1,1,1,2,2])"
      ],
      "metadata": {
        "colab": {
          "base_uri": "https://localhost:8080/"
        },
        "id": "zdRRD2Jv0dOU",
        "outputId": "4483084a-7da5-470d-d411-c3c0ae4e34fe"
      },
      "execution_count": 9,
      "outputs": [
        {
          "output_type": "execute_result",
          "data": {
            "text/plain": [
              "2"
            ]
          },
          "metadata": {},
          "execution_count": 9
        }
      ]
    },
    {
      "cell_type": "code",
      "source": [
        "from typing import List\n",
        "from collections import defaultdict\n",
        "\n",
        "class Solution:\n",
        "    def majorityElement(self, nums: List[int]) -> int:\n",
        "      hash_table = defaultdict(int)\n",
        "      for num in nums:\n",
        "        hash_table[num] = hash_table[num] + 1\n",
        "      \n",
        "      for num in nums:\n",
        "        if hash_table[num] > len(nums)/2:\n",
        "          return num\n",
        "        \n",
        "\n",
        "s1 = Solution()\n",
        "s1.majorityElement([2,2,1,1,1,2,2])"
      ],
      "metadata": {
        "colab": {
          "base_uri": "https://localhost:8080/"
        },
        "id": "MuS2GDAruI5C",
        "outputId": "e5f28c0e-ba4e-4089-9d67-ba6419b61493"
      },
      "execution_count": 8,
      "outputs": [
        {
          "output_type": "execute_result",
          "data": {
            "text/plain": [
              "2"
            ]
          },
          "metadata": {},
          "execution_count": 8
        }
      ]
    },
    {
      "cell_type": "code",
      "source": [
        "from typing import List\n",
        "class Solution:\n",
        "    def maxProfit(self, prices: List[int]) -> int:\n",
        "      buy_price = prices[0]\n",
        "      current_profit = 0\n",
        "      max_profit = 0\n",
        "      for i in range(1, len(prices)):\n",
        "        if buy_price < prices[i]:\n",
        "          current_profit = prices[i] - buy_price\n",
        "          if current_profit > max_profit:\n",
        "            max_profit = current_profit\n",
        "        else:\n",
        "          buy_price = prices[i]\n",
        "\n",
        "      \n",
        "      return max_profit\n",
        "\n",
        "\n",
        "\n",
        "s1 = Solution()\n",
        "s1.maxProfit([7,1,5,3,6,4])"
      ],
      "metadata": {
        "colab": {
          "base_uri": "https://localhost:8080/"
        },
        "id": "GW96a4rt8qKL",
        "outputId": "1dd7ba74-e418-4c98-f772-451550360f5a"
      },
      "execution_count": 15,
      "outputs": [
        {
          "output_type": "execute_result",
          "data": {
            "text/plain": [
              "5"
            ]
          },
          "metadata": {},
          "execution_count": 15
        }
      ]
    }
  ]
}